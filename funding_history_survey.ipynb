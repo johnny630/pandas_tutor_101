{
 "cells": [
  {
   "cell_type": "code",
   "execution_count": 1,
   "id": "96ce9b4e",
   "metadata": {},
   "outputs": [],
   "source": [
    "import pandas as pd\n",
    "import matplotlib as plot"
   ]
  },
  {
   "cell_type": "code",
   "execution_count": 2,
   "id": "c2c68b82",
   "metadata": {},
   "outputs": [
    {
     "data": {
      "text/html": [
       "<div>\n",
       "<style scoped>\n",
       "    .dataframe tbody tr th:only-of-type {\n",
       "        vertical-align: middle;\n",
       "    }\n",
       "\n",
       "    .dataframe tbody tr th {\n",
       "        vertical-align: top;\n",
       "    }\n",
       "\n",
       "    .dataframe thead th {\n",
       "        text-align: right;\n",
       "    }\n",
       "</style>\n",
       "<table border=\"1\" class=\"dataframe\">\n",
       "  <thead>\n",
       "    <tr style=\"text-align: right;\">\n",
       "      <th></th>\n",
       "      <th>合約</th>\n",
       "      <th>資金費率間隔</th>\n",
       "      <th>資金費率</th>\n",
       "    </tr>\n",
       "    <tr>\n",
       "      <th>時間</th>\n",
       "      <th></th>\n",
       "      <th></th>\n",
       "      <th></th>\n",
       "    </tr>\n",
       "  </thead>\n",
       "  <tbody>\n",
       "    <tr>\n",
       "      <th>2019-09-10 16:00:00</th>\n",
       "      <td>BTCUSDT 永續</td>\n",
       "      <td>8小時</td>\n",
       "      <td>0.01</td>\n",
       "    </tr>\n",
       "    <tr>\n",
       "      <th>2019-09-11 00:00:00</th>\n",
       "      <td>BTCUSDT 永續</td>\n",
       "      <td>8小時</td>\n",
       "      <td>0.01</td>\n",
       "    </tr>\n",
       "    <tr>\n",
       "      <th>2019-09-11 08:00:00</th>\n",
       "      <td>BTCUSDT 永續</td>\n",
       "      <td>8小時</td>\n",
       "      <td>0.01</td>\n",
       "    </tr>\n",
       "    <tr>\n",
       "      <th>2019-09-11 16:00:00</th>\n",
       "      <td>BTCUSDT 永續</td>\n",
       "      <td>8小時</td>\n",
       "      <td>0.01</td>\n",
       "    </tr>\n",
       "    <tr>\n",
       "      <th>2019-09-12 00:00:00</th>\n",
       "      <td>BTCUSDT 永續</td>\n",
       "      <td>8小時</td>\n",
       "      <td>0.01</td>\n",
       "    </tr>\n",
       "  </tbody>\n",
       "</table>\n",
       "</div>"
      ],
      "text/plain": [
       "                             合約 資金費率間隔  資金費率\n",
       "時間                                          \n",
       "2019-09-10 16:00:00  BTCUSDT 永續    8小時  0.01\n",
       "2019-09-11 00:00:00  BTCUSDT 永續    8小時  0.01\n",
       "2019-09-11 08:00:00  BTCUSDT 永續    8小時  0.01\n",
       "2019-09-11 16:00:00  BTCUSDT 永續    8小時  0.01\n",
       "2019-09-12 00:00:00  BTCUSDT 永續    8小時  0.01"
      ]
     },
     "execution_count": 2,
     "metadata": {},
     "output_type": "execute_result"
    }
   ],
   "source": [
    "def p2f(x):\n",
    "    return float(x.strip('%'))\n",
    "\n",
    "btc_usdt_funding = pd.read_csv('data/資金費率歷史_BTCUSDT 永續_2021-08-24.csv', index_col=0, parse_dates=True, converters={'資金費率':p2f})\n",
    "btc_usdt_funding = btc_usdt_funding.sort_index(ascending=True)\n",
    "btc_usdt_funding.head()"
   ]
  },
  {
   "cell_type": "code",
   "execution_count": 3,
   "id": "88084e6e",
   "metadata": {},
   "outputs": [
    {
     "data": {
      "text/plain": [
       "<AxesSubplot:xlabel='時間'>"
      ]
     },
     "execution_count": 3,
     "metadata": {},
     "output_type": "execute_result"
    },
    {
     "name": "stderr",
     "output_type": "stream",
     "text": [
      "/opt/anaconda3/lib/python3.8/site-packages/matplotlib/backends/backend_agg.py:238: RuntimeWarning: Glyph 26178 missing from current font.\n",
      "  font.set_text(s, 0.0, flags=flags)\n",
      "/opt/anaconda3/lib/python3.8/site-packages/matplotlib/backends/backend_agg.py:238: RuntimeWarning: Glyph 38291 missing from current font.\n",
      "  font.set_text(s, 0.0, flags=flags)\n",
      "/opt/anaconda3/lib/python3.8/site-packages/matplotlib/backends/backend_agg.py:201: RuntimeWarning: Glyph 26178 missing from current font.\n",
      "  font.set_text(s, 0, flags=flags)\n",
      "/opt/anaconda3/lib/python3.8/site-packages/matplotlib/backends/backend_agg.py:201: RuntimeWarning: Glyph 38291 missing from current font.\n",
      "  font.set_text(s, 0, flags=flags)\n"
     ]
    },
    {
     "data": {
      "image/png": "[encoded data removed]",
      "text/plain": [
       "<Figure size 432x288 with 1 Axes>"
      ]
     },
     "metadata": {
      "needs_background": "light"
     },
     "output_type": "display_data"
    }
   ],
   "source": [
    "btc_usdt_funding['資金費率'].plot()"
   ]
  },
  {
   "cell_type": "code",
   "execution_count": 4,
   "id": "eb063a82",
   "metadata": {},
   "outputs": [
    {
     "data": {
      "text/html": [
       "<div>\n",
       "<style scoped>\n",
       "    .dataframe tbody tr th:only-of-type {\n",
       "        vertical-align: middle;\n",
       "    }\n",
       "\n",
       "    .dataframe tbody tr th {\n",
       "        vertical-align: top;\n",
       "    }\n",
       "\n",
       "    .dataframe thead th {\n",
       "        text-align: right;\n",
       "    }\n",
       "</style>\n",
       "<table border=\"1\" class=\"dataframe\">\n",
       "  <thead>\n",
       "    <tr style=\"text-align: right;\">\n",
       "      <th></th>\n",
       "      <th>資金費率</th>\n",
       "      <th>資金費率總和</th>\n",
       "    </tr>\n",
       "    <tr>\n",
       "      <th>時間</th>\n",
       "      <th></th>\n",
       "      <th></th>\n",
       "    </tr>\n",
       "  </thead>\n",
       "  <tbody>\n",
       "    <tr>\n",
       "      <th>2019-09-10 16:00:00</th>\n",
       "      <td>0.0100</td>\n",
       "      <td>0.0100</td>\n",
       "    </tr>\n",
       "    <tr>\n",
       "      <th>2019-09-11 00:00:00</th>\n",
       "      <td>0.0100</td>\n",
       "      <td>0.0200</td>\n",
       "    </tr>\n",
       "    <tr>\n",
       "      <th>2019-09-11 08:00:00</th>\n",
       "      <td>0.0100</td>\n",
       "      <td>0.0300</td>\n",
       "    </tr>\n",
       "    <tr>\n",
       "      <th>2019-09-11 16:00:00</th>\n",
       "      <td>0.0100</td>\n",
       "      <td>0.0400</td>\n",
       "    </tr>\n",
       "    <tr>\n",
       "      <th>2019-09-12 00:00:00</th>\n",
       "      <td>0.0100</td>\n",
       "      <td>0.0500</td>\n",
       "    </tr>\n",
       "    <tr>\n",
       "      <th>...</th>\n",
       "      <td>...</td>\n",
       "      <td>...</td>\n",
       "    </tr>\n",
       "    <tr>\n",
       "      <th>2021-08-23 08:00:00</th>\n",
       "      <td>0.0100</td>\n",
       "      <td>43.4036</td>\n",
       "    </tr>\n",
       "    <tr>\n",
       "      <th>2021-08-23 16:00:00</th>\n",
       "      <td>0.0391</td>\n",
       "      <td>43.4427</td>\n",
       "    </tr>\n",
       "    <tr>\n",
       "      <th>2021-08-24 00:00:00</th>\n",
       "      <td>0.0239</td>\n",
       "      <td>43.4666</td>\n",
       "    </tr>\n",
       "    <tr>\n",
       "      <th>2021-08-24 08:00:00</th>\n",
       "      <td>0.0293</td>\n",
       "      <td>43.4959</td>\n",
       "    </tr>\n",
       "    <tr>\n",
       "      <th>2021-08-24 16:00:00</th>\n",
       "      <td>0.0100</td>\n",
       "      <td>43.5059</td>\n",
       "    </tr>\n",
       "  </tbody>\n",
       "</table>\n",
       "<p>2143 rows × 2 columns</p>\n",
       "</div>"
      ],
      "text/plain": [
       "                       資金費率   資金費率總和\n",
       "時間                                  \n",
       "2019-09-10 16:00:00  0.0100   0.0100\n",
       "2019-09-11 00:00:00  0.0100   0.0200\n",
       "2019-09-11 08:00:00  0.0100   0.0300\n",
       "2019-09-11 16:00:00  0.0100   0.0400\n",
       "2019-09-12 00:00:00  0.0100   0.0500\n",
       "...                     ...      ...\n",
       "2021-08-23 08:00:00  0.0100  43.4036\n",
       "2021-08-23 16:00:00  0.0391  43.4427\n",
       "2021-08-24 00:00:00  0.0239  43.4666\n",
       "2021-08-24 08:00:00  0.0293  43.4959\n",
       "2021-08-24 16:00:00  0.0100  43.5059\n",
       "\n",
       "[2143 rows x 2 columns]"
      ]
     },
     "execution_count": 4,
     "metadata": {},
     "output_type": "execute_result"
    }
   ],
   "source": [
    "btc_usdt_funding['資金費率總和'] = btc_usdt_funding['資金費率'].cumsum()\n",
    "\n",
    "btc_usdt_funding[['資金費率', '資金費率總和']]"
   ]
  },
  {
   "cell_type": "code",
   "execution_count": 5,
   "id": "b83652cd",
   "metadata": {},
   "outputs": [
    {
     "data": {
      "text/plain": [
       "<AxesSubplot:xlabel='時間'>"
      ]
     },
     "execution_count": 5,
     "metadata": {},
     "output_type": "execute_result"
    },
    {
     "name": "stderr",
     "output_type": "stream",
     "text": [
      "/opt/anaconda3/lib/python3.8/site-packages/matplotlib/backends/backend_agg.py:238: RuntimeWarning: Glyph 26178 missing from current font.\n",
      "  font.set_text(s, 0.0, flags=flags)\n",
      "/opt/anaconda3/lib/python3.8/site-packages/matplotlib/backends/backend_agg.py:238: RuntimeWarning: Glyph 38291 missing from current font.\n",
      "  font.set_text(s, 0.0, flags=flags)\n",
      "/opt/anaconda3/lib/python3.8/site-packages/matplotlib/backends/backend_agg.py:201: RuntimeWarning: Glyph 26178 missing from current font.\n",
      "  font.set_text(s, 0, flags=flags)\n",
      "/opt/anaconda3/lib/python3.8/site-packages/matplotlib/backends/backend_agg.py:201: RuntimeWarning: Glyph 38291 missing from current font.\n",
      "  font.set_text(s, 0, flags=flags)\n"
     ]
    },
    {
     "data": {
      "image/png": "[encoded data removed]",
      "text/plain": [
       "<Figure size 432x288 with 1 Axes>"
      ]
     },
     "metadata": {
      "needs_background": "light"
     },
     "output_type": "display_data"
    }
   ],
   "source": [
    "btc_usdt_funding['資金費率'].plot()\n",
    "btc_usdt_funding['資金費率總和'].plot()"
   ]
  },
  {
   "cell_type": "code",
   "execution_count": 6,
   "id": "c61c68df",
   "metadata": {},
   "outputs": [
    {
     "data": {
      "text/plain": [
       "<AxesSubplot:xlabel='時間'>"
      ]
     },
     "execution_count": 6,
     "metadata": {},
     "output_type": "execute_result"
    },
    {
     "name": "stderr",
     "output_type": "stream",
     "text": [
      "/opt/anaconda3/lib/python3.8/site-packages/matplotlib/backends/backend_agg.py:238: RuntimeWarning: Glyph 26178 missing from current font.\n",
      "  font.set_text(s, 0.0, flags=flags)\n",
      "/opt/anaconda3/lib/python3.8/site-packages/matplotlib/backends/backend_agg.py:238: RuntimeWarning: Glyph 38291 missing from current font.\n",
      "  font.set_text(s, 0.0, flags=flags)\n",
      "/opt/anaconda3/lib/python3.8/site-packages/matplotlib/backends/backend_agg.py:201: RuntimeWarning: Glyph 26178 missing from current font.\n",
      "  font.set_text(s, 0, flags=flags)\n",
      "/opt/anaconda3/lib/python3.8/site-packages/matplotlib/backends/backend_agg.py:201: RuntimeWarning: Glyph 38291 missing from current font.\n",
      "  font.set_text(s, 0, flags=flags)\n"
     ]
    },
    {
     "data": {
      "image/png": "[encoded data removed]",
      "text/plain": [
       "<Figure size 432x288 with 1 Axes>"
      ]
     },
     "metadata": {
      "needs_background": "light"
     },
     "output_type": "display_data"
    }
   ],
   "source": [
    "df = pd.DataFrame({\n",
    "    'sales': [3, 2, 3],\n",
    "    'visits': [20, 42, 28],\n",
    "    '時間': [1, 2, 3],\n",
    "})\n",
    "df.plot.area(y=['sales', 'visits'], x='時間')"
   ]
  },
  {
   "cell_type": "code",
   "execution_count": 7,
   "id": "5dfb79ca",
   "metadata": {},
   "outputs": [
    {
     "name": "stdout",
     "output_type": "stream",
     "text": [
      "b'1630423638065GET/api/funding_payments'\n",
      "7f08cb36aa074cf0ff26de88c7e735d5a8dffa7c1e5984660f6fa408e9be122f\n",
      "None\n",
      "{}\n"
     ]
    }
   ],
   "source": [
    "import time\n",
    "import hmac\n",
    "import requests\n",
    "from requests import Request\n",
    "\n",
    "ts = int(time.time() * 1000)\n",
    "request = Request('GET', 'https://ftx.com/api/funding_payments')\n",
    "prepared = request.prepare()\n",
    "signature_payload = f'{ts}{prepared.method}{prepared.path_url}'.encode()\n",
    "print(signature_payload)\n",
    "signature = hmac.new('GDrsJTjOjDK2ZaCiekW7M5EOe4J-OKdEit4bec-w'.encode(), signature_payload, 'sha256').hexdigest()\n",
    "print(signature)\n",
    "\n",
    "request.headers['FTX-KEY'] = '651Xim-hOUM96Rj_kpKIs3SkLRcVF0ZGJbsfWcRf'\n",
    "request.headers['FTX-SIGN'] = signature\n",
    "request.headers['FTX-TS'] = str(ts)\n",
    "\n",
    "print(prepared.body)\n",
    "print(prepared.headers)"
   ]
  },
  {
   "cell_type": "code",
   "execution_count": 8,
   "id": "03efb48a",
   "metadata": {},
   "outputs": [
    {
     "data": {
      "text/html": [
       "<div>\n",
       "<style scoped>\n",
       "    .dataframe tbody tr th:only-of-type {\n",
       "        vertical-align: middle;\n",
       "    }\n",
       "\n",
       "    .dataframe tbody tr th {\n",
       "        vertical-align: top;\n",
       "    }\n",
       "\n",
       "    .dataframe thead th {\n",
       "        text-align: right;\n",
       "    }\n",
       "</style>\n",
       "<table border=\"1\" class=\"dataframe\">\n",
       "  <thead>\n",
       "    <tr style=\"text-align: right;\">\n",
       "      <th></th>\n",
       "      <th>future</th>\n",
       "      <th>rate</th>\n",
       "      <th>time</th>\n",
       "    </tr>\n",
       "  </thead>\n",
       "  <tbody>\n",
       "    <tr>\n",
       "      <th>0</th>\n",
       "      <td>STORJ-PERP</td>\n",
       "      <td>0.000014</td>\n",
       "      <td>2021-08-31T15:00:00+00:00</td>\n",
       "    </tr>\n",
       "    <tr>\n",
       "      <th>1</th>\n",
       "      <td>HOT-PERP</td>\n",
       "      <td>0.000040</td>\n",
       "      <td>2021-08-31T15:00:00+00:00</td>\n",
       "    </tr>\n",
       "    <tr>\n",
       "      <th>2</th>\n",
       "      <td>MEDIA-PERP</td>\n",
       "      <td>0.000000</td>\n",
       "      <td>2021-08-31T15:00:00+00:00</td>\n",
       "    </tr>\n",
       "    <tr>\n",
       "      <th>3</th>\n",
       "      <td>SC-PERP</td>\n",
       "      <td>-0.000028</td>\n",
       "      <td>2021-08-31T15:00:00+00:00</td>\n",
       "    </tr>\n",
       "    <tr>\n",
       "      <th>4</th>\n",
       "      <td>XTZ-PERP</td>\n",
       "      <td>0.000049</td>\n",
       "      <td>2021-08-31T15:00:00+00:00</td>\n",
       "    </tr>\n",
       "    <tr>\n",
       "      <th>...</th>\n",
       "      <td>...</td>\n",
       "      <td>...</td>\n",
       "      <td>...</td>\n",
       "    </tr>\n",
       "    <tr>\n",
       "      <th>495</th>\n",
       "      <td>DAWN-PERP</td>\n",
       "      <td>-0.000188</td>\n",
       "      <td>2021-08-31T12:00:00+00:00</td>\n",
       "    </tr>\n",
       "    <tr>\n",
       "      <th>496</th>\n",
       "      <td>HUM-PERP</td>\n",
       "      <td>0.000174</td>\n",
       "      <td>2021-08-31T12:00:00+00:00</td>\n",
       "    </tr>\n",
       "    <tr>\n",
       "      <th>497</th>\n",
       "      <td>GRT-PERP</td>\n",
       "      <td>0.000040</td>\n",
       "      <td>2021-08-31T12:00:00+00:00</td>\n",
       "    </tr>\n",
       "    <tr>\n",
       "      <th>498</th>\n",
       "      <td>CRV-PERP</td>\n",
       "      <td>-0.000003</td>\n",
       "      <td>2021-08-31T12:00:00+00:00</td>\n",
       "    </tr>\n",
       "    <tr>\n",
       "      <th>499</th>\n",
       "      <td>HBAR-PERP</td>\n",
       "      <td>0.000017</td>\n",
       "      <td>2021-08-31T12:00:00+00:00</td>\n",
       "    </tr>\n",
       "  </tbody>\n",
       "</table>\n",
       "<p>500 rows × 3 columns</p>\n",
       "</div>"
      ],
      "text/plain": [
       "         future      rate                       time\n",
       "0    STORJ-PERP  0.000014  2021-08-31T15:00:00+00:00\n",
       "1      HOT-PERP  0.000040  2021-08-31T15:00:00+00:00\n",
       "2    MEDIA-PERP  0.000000  2021-08-31T15:00:00+00:00\n",
       "3       SC-PERP -0.000028  2021-08-31T15:00:00+00:00\n",
       "4      XTZ-PERP  0.000049  2021-08-31T15:00:00+00:00\n",
       "..          ...       ...                        ...\n",
       "495   DAWN-PERP -0.000188  2021-08-31T12:00:00+00:00\n",
       "496    HUM-PERP  0.000174  2021-08-31T12:00:00+00:00\n",
       "497    GRT-PERP  0.000040  2021-08-31T12:00:00+00:00\n",
       "498    CRV-PERP -0.000003  2021-08-31T12:00:00+00:00\n",
       "499   HBAR-PERP  0.000017  2021-08-31T12:00:00+00:00\n",
       "\n",
       "[500 rows x 3 columns]"
      ]
     },
     "execution_count": 8,
     "metadata": {},
     "output_type": "execute_result"
    }
   ],
   "source": [
    "funding_rates = requests.get('https://ftx.com/api/funding_rates').json()\n",
    "df = pd.DataFrame(funding_rates['result'])\n",
    "df"
   ]
  },
  {
   "cell_type": "code",
   "execution_count": 9,
   "id": "4e4fbad6",
   "metadata": {},
   "outputs": [
    {
     "ename": "NameError",
     "evalue": "name 'markets' is not defined",
     "output_type": "error",
     "traceback": [
      "\u001b[0;31m---------------------------------------------------------------------------\u001b[0m",
      "\u001b[0;31mNameError\u001b[0m                                 Traceback (most recent call last)",
      "\u001b[0;32m<ipython-input-9-27a061e18100>\u001b[0m in \u001b[0;36m<module>\u001b[0;34m\u001b[0m\n\u001b[0;32m----> 1\u001b[0;31m \u001b[0mmarkets\u001b[0m\u001b[0;34m[\u001b[0m\u001b[0;34m'result'\u001b[0m\u001b[0;34m]\u001b[0m\u001b[0;34m\u001b[0m\u001b[0;34m\u001b[0m\u001b[0m\n\u001b[0m",
      "\u001b[0;31mNameError\u001b[0m: name 'markets' is not defined"
     ]
    }
   ],
   "source": [
    "markets['result']"
   ]
  },
  {
   "cell_type": "markdown",
   "id": "c9a227c9",
   "metadata": {},
   "source": [
    "## Binance funding rate history api"
   ]
  },
  {
   "cell_type": "code",
   "execution_count": 47,
   "id": "92f64edb",
   "metadata": {},
   "outputs": [
    {
     "name": "stdout",
     "output_type": "stream",
     "text": [
      "symbol                   object\n",
      "fundingIntervalHours      int64\n",
      "lastFundingRate         float64\n",
      "rateSum                 float64\n",
      "dtype: object\n"
     ]
    },
    {
     "data": {
      "text/html": [
       "<div>\n",
       "<style scoped>\n",
       "    .dataframe tbody tr th:only-of-type {\n",
       "        vertical-align: middle;\n",
       "    }\n",
       "\n",
       "    .dataframe tbody tr th {\n",
       "        vertical-align: top;\n",
       "    }\n",
       "\n",
       "    .dataframe thead th {\n",
       "        text-align: right;\n",
       "    }\n",
       "</style>\n",
       "<table border=\"1\" class=\"dataframe\">\n",
       "  <thead>\n",
       "    <tr style=\"text-align: right;\">\n",
       "      <th></th>\n",
       "      <th>symbol</th>\n",
       "      <th>fundingIntervalHours</th>\n",
       "      <th>lastFundingRate</th>\n",
       "      <th>rateSum</th>\n",
       "    </tr>\n",
       "    <tr>\n",
       "      <th>calcTime</th>\n",
       "      <th></th>\n",
       "      <th></th>\n",
       "      <th></th>\n",
       "      <th></th>\n",
       "    </tr>\n",
       "  </thead>\n",
       "  <tbody>\n",
       "    <tr>\n",
       "      <th>2019-09-10 16:00:00.000</th>\n",
       "      <td>BTCUSDT</td>\n",
       "      <td>8</td>\n",
       "      <td>0.010000</td>\n",
       "      <td>0.010000</td>\n",
       "    </tr>\n",
       "    <tr>\n",
       "      <th>2019-09-11 00:00:00.000</th>\n",
       "      <td>BTCUSDT</td>\n",
       "      <td>8</td>\n",
       "      <td>0.010000</td>\n",
       "      <td>0.020000</td>\n",
       "    </tr>\n",
       "    <tr>\n",
       "      <th>2019-09-11 08:00:00.000</th>\n",
       "      <td>BTCUSDT</td>\n",
       "      <td>8</td>\n",
       "      <td>0.010000</td>\n",
       "      <td>0.030000</td>\n",
       "    </tr>\n",
       "    <tr>\n",
       "      <th>2019-09-11 16:00:00.000</th>\n",
       "      <td>BTCUSDT</td>\n",
       "      <td>8</td>\n",
       "      <td>0.010000</td>\n",
       "      <td>0.040000</td>\n",
       "    </tr>\n",
       "    <tr>\n",
       "      <th>2019-09-12 00:00:00.000</th>\n",
       "      <td>BTCUSDT</td>\n",
       "      <td>8</td>\n",
       "      <td>0.010000</td>\n",
       "      <td>0.050000</td>\n",
       "    </tr>\n",
       "    <tr>\n",
       "      <th>...</th>\n",
       "      <td>...</td>\n",
       "      <td>...</td>\n",
       "      <td>...</td>\n",
       "      <td>...</td>\n",
       "    </tr>\n",
       "    <tr>\n",
       "      <th>2021-09-07 16:00:00.002</th>\n",
       "      <td>BTCUSDT</td>\n",
       "      <td>8</td>\n",
       "      <td>0.010000</td>\n",
       "      <td>44.467642</td>\n",
       "    </tr>\n",
       "    <tr>\n",
       "      <th>2021-09-08 00:00:00.001</th>\n",
       "      <td>BTCUSDT</td>\n",
       "      <td>8</td>\n",
       "      <td>0.022977</td>\n",
       "      <td>44.490619</td>\n",
       "    </tr>\n",
       "    <tr>\n",
       "      <th>2021-09-08 08:00:00.005</th>\n",
       "      <td>BTCUSDT</td>\n",
       "      <td>8</td>\n",
       "      <td>0.010000</td>\n",
       "      <td>44.500619</td>\n",
       "    </tr>\n",
       "    <tr>\n",
       "      <th>2021-09-08 16:00:00.000</th>\n",
       "      <td>BTCUSDT</td>\n",
       "      <td>8</td>\n",
       "      <td>0.010000</td>\n",
       "      <td>44.510619</td>\n",
       "    </tr>\n",
       "    <tr>\n",
       "      <th>2021-09-09 00:00:00.000</th>\n",
       "      <td>BTCUSDT</td>\n",
       "      <td>8</td>\n",
       "      <td>0.010000</td>\n",
       "      <td>44.520619</td>\n",
       "    </tr>\n",
       "  </tbody>\n",
       "</table>\n",
       "<p>2189 rows × 4 columns</p>\n",
       "</div>"
      ],
      "text/plain": [
       "                          symbol  fundingIntervalHours  lastFundingRate  \\\n",
       "calcTime                                                                  \n",
       "2019-09-10 16:00:00.000  BTCUSDT                     8         0.010000   \n",
       "2019-09-11 00:00:00.000  BTCUSDT                     8         0.010000   \n",
       "2019-09-11 08:00:00.000  BTCUSDT                     8         0.010000   \n",
       "2019-09-11 16:00:00.000  BTCUSDT                     8         0.010000   \n",
       "2019-09-12 00:00:00.000  BTCUSDT                     8         0.010000   \n",
       "...                          ...                   ...              ...   \n",
       "2021-09-07 16:00:00.002  BTCUSDT                     8         0.010000   \n",
       "2021-09-08 00:00:00.001  BTCUSDT                     8         0.022977   \n",
       "2021-09-08 08:00:00.005  BTCUSDT                     8         0.010000   \n",
       "2021-09-08 16:00:00.000  BTCUSDT                     8         0.010000   \n",
       "2021-09-09 00:00:00.000  BTCUSDT                     8         0.010000   \n",
       "\n",
       "                           rateSum  \n",
       "calcTime                            \n",
       "2019-09-10 16:00:00.000   0.010000  \n",
       "2019-09-11 00:00:00.000   0.020000  \n",
       "2019-09-11 08:00:00.000   0.030000  \n",
       "2019-09-11 16:00:00.000   0.040000  \n",
       "2019-09-12 00:00:00.000   0.050000  \n",
       "...                            ...  \n",
       "2021-09-07 16:00:00.002  44.467642  \n",
       "2021-09-08 00:00:00.001  44.490619  \n",
       "2021-09-08 08:00:00.005  44.500619  \n",
       "2021-09-08 16:00:00.000  44.510619  \n",
       "2021-09-09 00:00:00.000  44.520619  \n",
       "\n",
       "[2189 rows x 4 columns]"
      ]
     },
     "execution_count": 47,
     "metadata": {},
     "output_type": "execute_result"
    }
   ],
   "source": [
    "import requests\n",
    "import pandas as pd\n",
    "import matplotlib as plot\n",
    "from datetime import datetime\n",
    "\n",
    "funding_history_api = 'https://www.binance.com/bapi/futures/v1/public/future/common/get-funding-rate-history'\n",
    "payload = {'symbol':'BTCUSDT', 'page':1, 'rows':9999}\n",
    "# print(json.dumps(payload))\n",
    "r = requests.post(funding_history_api, json = payload)\n",
    "\n",
    "# print(r.headers)\n",
    "result = r.json()\n",
    "data = result['data']\n",
    "# print(len(data))\n",
    "# print(data)\n",
    "\n",
    "df = pd.DataFrame(data)\n",
    "\n",
    "# convert timestamp to datetime\n",
    "df['calcTime'] = [datetime.fromtimestamp(x/1000) for x in df['calcTime']]\n",
    "\n",
    "# set index\n",
    "df = df.set_index('calcTime')\n",
    "df = df.sort_index()\n",
    "\n",
    "# convert string to float\n",
    "df['lastFundingRate'] = [float(x) * 100 for x in df['lastFundingRate']]\n",
    "\n",
    "# summary\n",
    "df['rateSum'] = df['lastFundingRate'].cumsum()\n",
    "\n",
    "\n",
    "print(df.dtypes)\n",
    "df"
   ]
  },
  {
   "cell_type": "code",
   "execution_count": 48,
   "id": "bb6dcf02",
   "metadata": {},
   "outputs": [
    {
     "data": {
      "text/plain": [
       "<AxesSubplot:xlabel='calcTime'>"
      ]
     },
     "execution_count": 48,
     "metadata": {},
     "output_type": "execute_result"
    },
    {
     "data": {
      "image/png": "[encoded data removed]",
      "text/plain": [
       "<Figure size 432x288 with 1 Axes>"
      ]
     },
     "metadata": {
      "needs_background": "light"
     },
     "output_type": "display_data"
    }
   ],
   "source": [
    "df['rateSum'].plot()"
   ]
  },
  {
   "cell_type": "code",
   "execution_count": 122,
   "id": "7e48fb7f",
   "metadata": {},
   "outputs": [
    {
     "data": {
      "text/plain": [
       "<Figure size 1440x720 with 0 Axes>"
      ]
     },
     "metadata": {},
     "output_type": "display_data"
    }
   ],
   "source": [
    "import requests\n",
    "import pandas as pd\n",
    "# import matplotlib as plot\n",
    "import matplotlib.pyplot as plt\n",
    "from datetime import datetime\n",
    "\n",
    "plt.figure(figsize=(20,10))\n",
    "def plot_history(symbol):\n",
    "    funding_history_api = 'https://www.binance.com/bapi/futures/v1/public/future/common/get-funding-rate-history'\n",
    "    payload = {'symbol':symbol, 'page':1, 'rows':9999}\n",
    "    # print(json.dumps(payload))\n",
    "    r = requests.post(funding_history_api, json = payload)\n",
    "\n",
    "    # print(r.headers)\n",
    "    result = r.json()\n",
    "    data = result['data']\n",
    "    # print(len(data))\n",
    "    # print(data)\n",
    "\n",
    "    df = pd.DataFrame(data)\n",
    "\n",
    "    # convert timestamp to datetime\n",
    "    df['calcTime'] = [datetime.fromtimestamp(x/1000) for x in df['calcTime']]\n",
    "\n",
    "    # set index\n",
    "    df = df.set_index('calcTime')\n",
    "    df = df.sort_index()\n",
    "\n",
    "    # convert string to float\n",
    "    df['lastFundingRate'] = [float(x) * 100 for x in df['lastFundingRate']]\n",
    "\n",
    "    # summary\n",
    "    df['rateSum'] = df['lastFundingRate'].cumsum()\n",
    "\n",
    "\n",
    "    # print(df.dtypes)\n",
    "    print(symbol)\n",
    "#     \n",
    "    plt.plot(df['rateSum'], label=symbol)\n"
   ]
  },
  {
   "cell_type": "code",
   "execution_count": 123,
   "id": "844e4139",
   "metadata": {},
   "outputs": [
    {
     "name": "stdout",
     "output_type": "stream",
     "text": [
      "133\n",
      "BTCUSDT\n",
      "ETHUSDT\n",
      "BCHUSDT\n"
     ]
    },
    {
     "data": {
      "image/png": "[encoded data removed]",
      "text/plain": [
       "<Figure size 432x288 with 1 Axes>"
      ]
     },
     "metadata": {
      "needs_background": "light"
     },
     "output_type": "display_data"
    }
   ],
   "source": [
    "# plot_history('BTCUSDT')\n",
    "# plot_history('ETHUSDT')\n",
    "\n",
    "table_perpetual = pd.read_html('https://www.binance.com/en/futures/trading-rules/perpetual')\n",
    "len(table_perpetual)\n",
    "\n",
    "table_perpetual[0]\n",
    "table_perpetual = table_perpetual[0].iloc[:, lambda df: [0]]\n",
    "table_perpetual\n",
    "\n",
    "print(len(table_perpetual))\n",
    "table_perpetual['Symbol'] = [x.split(' ')[0] for x in table_perpetual['Symbol']]\n",
    "table_perpetual = table_perpetual.loc[table_perpetual['Symbol'].str.contains('USDT')]\n",
    "for symbol in table_perpetual['Symbol'].head(3):\n",
    "    plot_history(symbol)\n",
    "    \n",
    "plt.legend(title='Group')\n",
    "\n",
    "plt.show()"
   ]
  },
  {
   "cell_type": "code",
   "execution_count": 54,
   "id": "d77c4a12",
   "metadata": {},
   "outputs": [
    {
     "name": "stdout",
     "output_type": "stream",
     "text": [
      "symbol                   object\n",
      "fundingIntervalHours      int64\n",
      "lastFundingRate         float64\n",
      "rateSum                 float64\n",
      "dtype: object\n"
     ]
    },
    {
     "data": {
      "image/png": "[encoded data removed]",
      "text/plain": [
       "<Figure size 432x288 with 1 Axes>"
      ]
     },
     "metadata": {
      "needs_background": "light"
     },
     "output_type": "display_data"
    }
   ],
   "source": []
  },
  {
   "cell_type": "code",
   "execution_count": 80,
   "id": "b3fdb0f6",
   "metadata": {},
   "outputs": [
    {
     "name": "stdout",
     "output_type": "stream",
     "text": [
      "133\n",
      "BTCUSDT\n",
      "ETHUSDT\n",
      "BCHUSDT\n",
      "XRPUSDT\n",
      "EOSUSDT\n",
      "LTCUSDT\n",
      "TRXUSDT\n",
      "ETCUSDT\n",
      "LINKUSDT\n",
      "XLMUSDT\n"
     ]
    }
   ],
   "source": []
  },
  {
   "cell_type": "code",
   "execution_count": 84,
   "id": "5e2ce016",
   "metadata": {},
   "outputs": [
    {
     "ename": "TypeError",
     "evalue": "cannot unpack non-iterable int object",
     "output_type": "error",
     "traceback": [
      "\u001b[0;31m---------------------------------------------------------------------------\u001b[0m",
      "\u001b[0;31mTypeError\u001b[0m                                 Traceback (most recent call last)",
      "\u001b[0;32m<ipython-input-84-1280d5ee2e9b>\u001b[0m in \u001b[0;36m<module>\u001b[0;34m\u001b[0m\n\u001b[1;32m      1\u001b[0m \u001b[0maa\u001b[0m \u001b[0;34m=\u001b[0m \u001b[0;34m[\u001b[0m\u001b[0;36m1\u001b[0m\u001b[0;34m,\u001b[0m\u001b[0;36m2\u001b[0m\u001b[0;34m,\u001b[0m\u001b[0;36m3\u001b[0m\u001b[0;34m]\u001b[0m\u001b[0;34m\u001b[0m\u001b[0;34m\u001b[0m\u001b[0m\n\u001b[1;32m      2\u001b[0m \u001b[0;34m\u001b[0m\u001b[0m\n\u001b[0;32m----> 3\u001b[0;31m \u001b[0;32mfor\u001b[0m \u001b[0mi\u001b[0m\u001b[0;34m,\u001b[0m \u001b[0mx\u001b[0m \u001b[0;32min\u001b[0m \u001b[0maa\u001b[0m\u001b[0;34m:\u001b[0m\u001b[0;34m\u001b[0m\u001b[0;34m\u001b[0m\u001b[0m\n\u001b[0m\u001b[1;32m      4\u001b[0m     \u001b[0mprint\u001b[0m\u001b[0;34m(\u001b[0m\u001b[0mi\u001b[0m\u001b[0;34m,\u001b[0m \u001b[0mx\u001b[0m\u001b[0;34m)\u001b[0m\u001b[0;34m\u001b[0m\u001b[0;34m\u001b[0m\u001b[0m\n",
      "\u001b[0;31mTypeError\u001b[0m: cannot unpack non-iterable int object"
     ]
    }
   ],
   "source": [
    "aa = [1,2,3]\n",
    "\n",
    "for i, x in aa:\n",
    "    print(i, x)"
   ]
  },
  {
   "cell_type": "code",
   "execution_count": null,
   "id": "c92b0f22",
   "metadata": {},
   "outputs": [],
   "source": []
  }
 ],
 "metadata": {
  "kernelspec": {
   "display_name": "Python 3",
   "language": "python",
   "name": "python3"
  },
  "language_info": {
   "codemirror_mode": {
    "name": "ipython",
    "version": 3
   },
   "file_extension": ".py",
   "mimetype": "text/x-python",
   "name": "python",
   "nbconvert_exporter": "python",
   "pygments_lexer": "ipython3",
   "version": "3.8.8"
  }
 },
 "nbformat": 4,
 "nbformat_minor": 5
}
