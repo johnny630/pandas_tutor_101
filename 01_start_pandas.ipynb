{
 "cells": [
  {
   "cell_type": "code",
   "execution_count": null,
   "id": "d890381e",
   "metadata": {},
   "outputs": [],
   "source": [
    "# https://pandas.pydata.org/docs/getting_started/intro_tutorials/index.html\n",
    "import pandas as pd"
   ]
  },
  {
   "cell_type": "code",
   "execution_count": null,
   "id": "06f47658",
   "metadata": {},
   "outputs": [],
   "source": [
    "# create a simple data frame\n",
    "df = pd.DataFrame(\n",
    "    {\n",
    "        'Name': [\n",
    "            'Johnny',\n",
    "            'Rachel',\n",
    "            'Peter'\n",
    "        ],\n",
    "        'Age': [30, 40, 50],\n",
    "        'Sex': ['male', 'female', 'male']\n",
    "    }\n",
    ")\n",
    "\n",
    "df"
   ]
  },
  {
   "cell_type": "code",
   "execution_count": 15,
   "id": "72990c0c",
   "metadata": {},
   "outputs": [
    {
     "name": "stdout",
     "output_type": "stream",
     "text": [
      "<class 'pandas.core.series.Series'>\n"
     ]
    },
    {
     "data": {
      "text/plain": [
       "True"
      ]
     },
     "execution_count": 15,
     "metadata": {},
     "output_type": "execute_result"
    }
   ],
   "source": [
    "# Each column in DataFrame is a Series\n",
    "import pandas\n",
    "print(type(df['Age']))\n",
    "isinstance(df['Age'], pandas.core.series.Series)"
   ]
  },
  {
   "cell_type": "code",
   "execution_count": 16,
   "id": "fffb9edd",
   "metadata": {},
   "outputs": [
    {
     "data": {
      "text/plain": [
       "0    70\n",
       "1    51\n",
       "2    30\n",
       "Name: Weight, dtype: int64"
      ]
     },
     "execution_count": 16,
     "metadata": {},
     "output_type": "execute_result"
    }
   ],
   "source": [
    "# create a Series\n",
    "weights = pd.Series([70, 51, 30], name='Weight')\n",
    "weights"
   ]
  },
  {
   "cell_type": "code",
   "execution_count": 21,
   "id": "bb4f9a39",
   "metadata": {},
   "outputs": [
    {
     "data": {
      "text/plain": [
       "Name    Rachel\n",
       "Age         50\n",
       "Sex       male\n",
       "dtype: object"
      ]
     },
     "execution_count": 21,
     "metadata": {},
     "output_type": "execute_result"
    }
   ],
   "source": [
    "# do something with a DataFrame or Series\n",
    "df.max()\n",
    "# df.describe()"
   ]
  },
  {
   "cell_type": "code",
   "execution_count": null,
   "id": "6de4901d",
   "metadata": {},
   "outputs": [],
   "source": []
  }
 ],
 "metadata": {
  "kernelspec": {
   "display_name": "Python 3",
   "language": "python",
   "name": "python3"
  },
  "language_info": {
   "codemirror_mode": {
    "name": "ipython",
    "version": 3
   },
   "file_extension": ".py",
   "mimetype": "text/x-python",
   "name": "python",
   "nbconvert_exporter": "python",
   "pygments_lexer": "ipython3",
   "version": "3.8.8"
  }
 },
 "nbformat": 4,
 "nbformat_minor": 5
}
